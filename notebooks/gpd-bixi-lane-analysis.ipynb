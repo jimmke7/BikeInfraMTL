{
 "cells": [
  {
   "cell_type": "markdown",
   "metadata": {},
   "source": [
    "# BIXI stations and lanes analysis"
   ]
  },
  {
   "cell_type": "code",
   "execution_count": 1,
   "metadata": {},
   "outputs": [],
   "source": [
    "import pandas as pd\n",
    "import geopandas as gpd\n",
    "\n",
    "import leafmap"
   ]
  },
  {
   "cell_type": "code",
   "execution_count": 2,
   "metadata": {},
   "outputs": [
    {
     "data": {
      "text/html": [
       "<div>\n",
       "<style scoped>\n",
       "    .dataframe tbody tr th:only-of-type {\n",
       "        vertical-align: middle;\n",
       "    }\n",
       "\n",
       "    .dataframe tbody tr th {\n",
       "        vertical-align: top;\n",
       "    }\n",
       "\n",
       "    .dataframe thead th {\n",
       "        text-align: right;\n",
       "    }\n",
       "</style>\n",
       "<table border=\"1\" class=\"dataframe\">\n",
       "  <thead>\n",
       "    <tr style=\"text-align: right;\">\n",
       "      <th></th>\n",
       "      <th>STATIONNAME</th>\n",
       "      <th>STATIONLATITUDE</th>\n",
       "      <th>STATIONLONGITUDE</th>\n",
       "      <th>WITHIN_CITY_AREA</th>\n",
       "      <th>geometry</th>\n",
       "    </tr>\n",
       "  </thead>\n",
       "  <tbody>\n",
       "    <tr>\n",
       "      <th>0</th>\n",
       "      <td>Métro Champ-de-Mars (Viger / Sanguinet)</td>\n",
       "      <td>45.510253</td>\n",
       "      <td>-73.556777</td>\n",
       "      <td>True</td>\n",
       "      <td>POINT (-8188302.92 5702211.268)</td>\n",
       "    </tr>\n",
       "    <tr>\n",
       "      <th>1</th>\n",
       "      <td>Métro Place-d'Armes (Viger / St-Urbain)</td>\n",
       "      <td>45.506314</td>\n",
       "      <td>-73.559671</td>\n",
       "      <td>True</td>\n",
       "      <td>POINT (-8188625.144 5701585.66)</td>\n",
       "    </tr>\n",
       "    <tr>\n",
       "      <th>2</th>\n",
       "      <td>Émile-Duployé / Sherbrooke</td>\n",
       "      <td>45.527195</td>\n",
       "      <td>-73.564526</td>\n",
       "      <td>True</td>\n",
       "      <td>POINT (-8189165.524 5704902.986)</td>\n",
       "    </tr>\n",
       "    <tr>\n",
       "      <th>3</th>\n",
       "      <td>Marmier / St-Denis</td>\n",
       "      <td>45.531027</td>\n",
       "      <td>-73.598623</td>\n",
       "      <td>True</td>\n",
       "      <td>POINT (-8192961.25 5705511.795)</td>\n",
       "    </tr>\n",
       "    <tr>\n",
       "      <th>4</th>\n",
       "      <td>du Parc-Lafontaine / Rachel</td>\n",
       "      <td>45.525512</td>\n",
       "      <td>-73.574245</td>\n",
       "      <td>True</td>\n",
       "      <td>POINT (-8190247.436 5704635.456)</td>\n",
       "    </tr>\n",
       "  </tbody>\n",
       "</table>\n",
       "</div>"
      ],
      "text/plain": [
       "                               STATIONNAME  STATIONLATITUDE  STATIONLONGITUDE  \\\n",
       "0  Métro Champ-de-Mars (Viger / Sanguinet)        45.510253        -73.556777   \n",
       "1  Métro Place-d'Armes (Viger / St-Urbain)        45.506314        -73.559671   \n",
       "2               Émile-Duployé / Sherbrooke        45.527195        -73.564526   \n",
       "3                       Marmier / St-Denis        45.531027        -73.598623   \n",
       "4              du Parc-Lafontaine / Rachel        45.525512        -73.574245   \n",
       "\n",
       "   WITHIN_CITY_AREA                          geometry  \n",
       "0              True   POINT (-8188302.92 5702211.268)  \n",
       "1              True   POINT (-8188625.144 5701585.66)  \n",
       "2              True  POINT (-8189165.524 5704902.986)  \n",
       "3              True   POINT (-8192961.25 5705511.795)  \n",
       "4              True  POINT (-8190247.436 5704635.456)  "
      ]
     },
     "execution_count": 2,
     "metadata": {},
     "output_type": "execute_result"
    }
   ],
   "source": [
    "# Retrieve bixi stations data\n",
    "gdf_bixi_stations = gpd.read_file('../data/curated/bixi-stations.json')\n",
    "gdf_bixi_stations = gdf_bixi_stations[gdf_bixi_stations['WITHIN_CITY_AREA'] == True]\n",
    "gdf_bixi_stations.head()"
   ]
  },
  {
   "cell_type": "code",
   "execution_count": 3,
   "metadata": {},
   "outputs": [],
   "source": [
    "# Load bikelane data\n",
    "gdf_bikelane = gpd.read_file('../data/raw/bikelane-infra.json')"
   ]
  },
  {
   "cell_type": "code",
   "execution_count": 4,
   "metadata": {},
   "outputs": [
    {
     "data": {
      "text/plain": [
       "(<Projected CRS: EPSG:3857>\n",
       " Name: WGS 84 / Pseudo-Mercator\n",
       " Axis Info [cartesian]:\n",
       " - X[east]: Easting (metre)\n",
       " - Y[north]: Northing (metre)\n",
       " Area of Use:\n",
       " - name: World between 85.06°S and 85.06°N.\n",
       " - bounds: (-180.0, -85.06, 180.0, 85.06)\n",
       " Coordinate Operation:\n",
       " - name: Popular Visualisation Pseudo-Mercator\n",
       " - method: Popular Visualisation Pseudo Mercator\n",
       " Datum: World Geodetic System 1984 ensemble\n",
       " - Ellipsoid: WGS 84\n",
       " - Prime Meridian: Greenwich,\n",
       " <Projected CRS: EPSG:3857>\n",
       " Name: WGS 84 / Pseudo-Mercator\n",
       " Axis Info [cartesian]:\n",
       " - X[east]: Easting (metre)\n",
       " - Y[north]: Northing (metre)\n",
       " Area of Use:\n",
       " - name: World between 85.06°S and 85.06°N.\n",
       " - bounds: (-180.0, -85.06, 180.0, 85.06)\n",
       " Coordinate Operation:\n",
       " - name: Popular Visualisation Pseudo-Mercator\n",
       " - method: Popular Visualisation Pseudo Mercator\n",
       " Datum: World Geodetic System 1984 ensemble\n",
       " - Ellipsoid: WGS 84\n",
       " - Prime Meridian: Greenwich)"
      ]
     },
     "execution_count": 4,
     "metadata": {},
     "output_type": "execute_result"
    }
   ],
   "source": [
    "# Ensure both GeoDataFrames are in the same CRS\n",
    "gdf_bixi_stations = gdf_bixi_stations.to_crs('EPSG:3857')\n",
    "gdf_bikelane = gdf_bikelane.to_crs('EPSG:3857')\n",
    "\n",
    "gdf_bixi_stations.crs, gdf_bikelane.crs"
   ]
  },
  {
   "cell_type": "code",
   "execution_count": 5,
   "metadata": {},
   "outputs": [],
   "source": [
    "from shapely.ops import nearest_points\n",
    "\n",
    "# Function to find the nearest bike lane and its distance\n",
    "def find_nearest_bikelane(station, bikelanes):\n",
    "    nearest_geom = nearest_points(station.geometry, bikelanes.unary_union)[1]\n",
    "    distance = station.geometry.distance(nearest_geom)\n",
    "    return distance\n",
    "\n",
    "# Apply the function to each station\n",
    "gdf_bixi_stations['distance'] = gdf_bixi_stations.apply(find_nearest_bikelane, bikelanes=gdf_bikelane, axis=1)\n",
    "\n",
    "# round distance to nearest meter\n",
    "gdf_bixi_stations['distance'] = gdf_bixi_stations['distance']"
   ]
  },
  {
   "cell_type": "code",
   "execution_count": 6,
   "metadata": {},
   "outputs": [
    {
     "data": {
      "text/html": [
       "<div>\n",
       "<style scoped>\n",
       "    .dataframe tbody tr th:only-of-type {\n",
       "        vertical-align: middle;\n",
       "    }\n",
       "\n",
       "    .dataframe tbody tr th {\n",
       "        vertical-align: top;\n",
       "    }\n",
       "\n",
       "    .dataframe thead th {\n",
       "        text-align: right;\n",
       "    }\n",
       "</style>\n",
       "<table border=\"1\" class=\"dataframe\">\n",
       "  <thead>\n",
       "    <tr style=\"text-align: right;\">\n",
       "      <th></th>\n",
       "      <th>STATIONNAME</th>\n",
       "      <th>STATIONLATITUDE</th>\n",
       "      <th>STATIONLONGITUDE</th>\n",
       "      <th>WITHIN_CITY_AREA</th>\n",
       "      <th>geometry</th>\n",
       "      <th>distance</th>\n",
       "    </tr>\n",
       "  </thead>\n",
       "  <tbody>\n",
       "    <tr>\n",
       "      <th>728</th>\n",
       "      <td>Brittany / Ainsley</td>\n",
       "      <td>45.525890</td>\n",
       "      <td>-73.650034</td>\n",
       "      <td>True</td>\n",
       "      <td>POINT (-8198684.323 5704695.555)</td>\n",
       "      <td>1225.729965</td>\n",
       "    </tr>\n",
       "    <tr>\n",
       "      <th>710</th>\n",
       "      <td>de Côme / Jean-Talon</td>\n",
       "      <td>45.588303</td>\n",
       "      <td>-73.577837</td>\n",
       "      <td>True</td>\n",
       "      <td>POINT (-8190647.372 5714618.16)</td>\n",
       "      <td>1004.620238</td>\n",
       "    </tr>\n",
       "    <tr>\n",
       "      <th>480</th>\n",
       "      <td>des Jockeys / Décarie</td>\n",
       "      <td>45.494044</td>\n",
       "      <td>-73.654495</td>\n",
       "      <td>True</td>\n",
       "      <td>POINT (-8199180.865 5699636.892)</td>\n",
       "      <td>919.376639</td>\n",
       "    </tr>\n",
       "    <tr>\n",
       "      <th>462</th>\n",
       "      <td>Laird / Glencoe</td>\n",
       "      <td>45.506192</td>\n",
       "      <td>-73.642308</td>\n",
       "      <td>True</td>\n",
       "      <td>POINT (-8197824.227 5701566.143)</td>\n",
       "      <td>785.098591</td>\n",
       "    </tr>\n",
       "    <tr>\n",
       "      <th>123</th>\n",
       "      <td>de Soissons / de Darlington</td>\n",
       "      <td>45.506899</td>\n",
       "      <td>-73.623526</td>\n",
       "      <td>True</td>\n",
       "      <td>POINT (-8195733.435 5701678.532)</td>\n",
       "      <td>748.398384</td>\n",
       "    </tr>\n",
       "  </tbody>\n",
       "</table>\n",
       "</div>"
      ],
      "text/plain": [
       "                     STATIONNAME  STATIONLATITUDE  STATIONLONGITUDE  \\\n",
       "728           Brittany / Ainsley        45.525890        -73.650034   \n",
       "710         de Côme / Jean-Talon        45.588303        -73.577837   \n",
       "480        des Jockeys / Décarie        45.494044        -73.654495   \n",
       "462              Laird / Glencoe        45.506192        -73.642308   \n",
       "123  de Soissons / de Darlington        45.506899        -73.623526   \n",
       "\n",
       "     WITHIN_CITY_AREA                          geometry     distance  \n",
       "728              True  POINT (-8198684.323 5704695.555)  1225.729965  \n",
       "710              True   POINT (-8190647.372 5714618.16)  1004.620238  \n",
       "480              True  POINT (-8199180.865 5699636.892)   919.376639  \n",
       "462              True  POINT (-8197824.227 5701566.143)   785.098591  \n",
       "123              True  POINT (-8195733.435 5701678.532)   748.398384  "
      ]
     },
     "execution_count": 6,
     "metadata": {},
     "output_type": "execute_result"
    }
   ],
   "source": [
    "gdf_bixi_stations.sort_values(by='distance', ascending=False, inplace=True)\n",
    "gdf_bixi_stations.head()"
   ]
  },
  {
   "cell_type": "code",
   "execution_count": 7,
   "metadata": {},
   "outputs": [
    {
     "data": {
      "application/vnd.jupyter.widget-view+json": {
       "model_id": "17a550b3955c4176917a30839eb46bc1",
       "version_major": 2,
       "version_minor": 0
      },
      "text/plain": [
       "Map(center=[45.52, -73.6], controls=(ZoomControl(options=['position', 'zoom_in_text', 'zoom_in_title', 'zoom_o…"
      ]
     },
     "execution_count": 7,
     "metadata": {},
     "output_type": "execute_result"
    }
   ],
   "source": [
    "# Add buffer to the geometry column using the distance\n",
    "gdf_bixi_stations['geometry'] = gdf_bixi_stations.geometry.buffer(gdf_bixi_stations['distance'])\n",
    "\n",
    "# Plot stations as a circle with size proportional to the distance\n",
    "m = leafmap.Map(center=[45.52, -73.6], zoom=13)\n",
    "m.add_basemap(\"Google Maps\")\n",
    "m.add_gdf(gdf_bixi_stations, layer_name='BIXI Stations', fill_color='red', fill_opacity=0.5)\n",
    "\n",
    "m.add_geojson(gdf_bikelane, layer_name='Bike lanes', fill_opacity=0.5, fill_color='green', weight=2)\n",
    "m\n"
   ]
  },
  {
   "cell_type": "code",
   "execution_count": 9,
   "metadata": {},
   "outputs": [],
   "source": [
    "# Export geo json\n",
    "gdf_bixi_stations.to_file('../data/curated/bixi_stations_distance.geojson', driver='GeoJSON')"
   ]
  }
 ],
 "metadata": {
  "kernelspec": {
   "display_name": "venv",
   "language": "python",
   "name": "python3"
  },
  "language_info": {
   "codemirror_mode": {
    "name": "ipython",
    "version": 3
   },
   "file_extension": ".py",
   "mimetype": "text/x-python",
   "name": "python",
   "nbconvert_exporter": "python",
   "pygments_lexer": "ipython3",
   "version": "3.13.1"
  }
 },
 "nbformat": 4,
 "nbformat_minor": 2
}
