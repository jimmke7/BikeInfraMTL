{
 "cells": [
  {
   "cell_type": "code",
   "execution_count": 1,
   "metadata": {},
   "outputs": [],
   "source": [
    "\n",
    "import pandas as pd\n",
    "import geopandas as gpd"
   ]
  },
  {
   "cell_type": "code",
   "execution_count": 13,
   "metadata": {},
   "outputs": [
    {
     "name": "stdout",
     "output_type": "stream",
     "text": [
      "                               STATIONNAME  STATIONLATITUDE  STATIONLONGITUDE  \\\n",
      "0  Métro Champ-de-Mars (Viger / Sanguinet)        45.510253        -73.556777   \n",
      "1  Métro Place-d'Armes (Viger / St-Urbain)        45.506314        -73.559671   \n",
      "2               Émile-Duployé / Sherbrooke        45.527195        -73.564526   \n",
      "3                       Marmier / St-Denis        45.531027        -73.598623   \n",
      "4              du Parc-Lafontaine / Rachel        45.525512        -73.574245   \n",
      "\n",
      "   WITHIN_CITY_AREA                    geometry  \n",
      "0              True  POINT (-73.55678 45.51025)  \n",
      "1              True  POINT (-73.55967 45.50631)  \n",
      "2              True   POINT (-73.56453 45.5272)  \n",
      "3              True  POINT (-73.59862 45.53103)  \n",
      "4              True  POINT (-73.57424 45.52551)  \n"
     ]
    }
   ],
   "source": [
    "# Load the bixi stations data\n",
    "bixi_stations = gpd.read_file('../data/curated/bixi-stations.json')\n",
    "\n",
    "# Filter stations that are within the city area\n",
    "bixi_stations = bixi_stations[bixi_stations['WITHIN_CITY_AREA']]\n",
    "\n",
    "# Display the first few rows\n",
    "print(bixi_stations.head())"
   ]
  },
  {
   "cell_type": "code",
   "execution_count": 3,
   "metadata": {},
   "outputs": [],
   "source": [
    "# Load the bixi trips data of 2024\n",
    "bixi_trips = pd.read_csv('../data/raw/bixi/bixi-2024.csv')"
   ]
  },
  {
   "cell_type": "code",
   "execution_count": 4,
   "metadata": {},
   "outputs": [],
   "source": [
    "# Filter bixi data to only include stations that are within the city area\n",
    "bixi_trips = bixi_trips[bixi_trips['STARTSTATIONNAME'].isin(bixi_stations['STATIONNAME'])]\n",
    "bixi_trips = bixi_trips[bixi_trips['ENDSTATIONNAME'].isin(bixi_stations['STATIONNAME'])]"
   ]
  },
  {
   "cell_type": "code",
   "execution_count": 5,
   "metadata": {},
   "outputs": [
    {
     "name": "stdout",
     "output_type": "stream",
     "text": [
      "                          STARTSTATIONNAME   STARTSTATIONARRONDISSEMENT  \\\n",
      "0  Métro Champ-de-Mars (Viger / Sanguinet)                  Ville-Marie   \n",
      "1  Métro Place-d'Armes (Viger / St-Urbain)                  Ville-Marie   \n",
      "2               Émile-Duployé / Sherbrooke        Le Plateau-Mont-Royal   \n",
      "3                       Marmier / St-Denis  Rosemont - La Petite-Patrie   \n",
      "4                       Marmier / St-Denis  Rosemont - La Petite-Patrie   \n",
      "\n",
      "   STARTSTATIONLATITUDE  STARTSTATIONLONGITUDE  \\\n",
      "0             45.510253             -73.556777   \n",
      "1             45.506314             -73.559671   \n",
      "2             45.527195             -73.564526   \n",
      "3             45.531027             -73.598623   \n",
      "4             45.531027             -73.598623   \n",
      "\n",
      "                         ENDSTATIONNAME     ENDSTATIONARRONDISSEMENT  \\\n",
      "0       St-Antoine / Jean-Paul Riopelle                  Ville-Marie   \n",
      "1         de Maisonneuve / Aylmer (est)                  Ville-Marie   \n",
      "2  Parc Molson (d'Iberville / Beaubien)  Rosemont - La Petite-Patrie   \n",
      "3                        Roy / St-André        Le Plateau-Mont-Royal   \n",
      "4  Parc Molson (d'Iberville / Beaubien)  Rosemont - La Petite-Patrie   \n",
      "\n",
      "   ENDSTATIONLATITUDE  ENDSTATIONLONGITUDE    STARTTIMEMS     ENDTIMEMS  \n",
      "0           45.502940           -73.560640  1704230756167  1.704231e+12  \n",
      "1           45.505386           -73.570432  1704232888826  1.704233e+12  \n",
      "2           45.549022           -73.591982  1704238154678  1.704239e+12  \n",
      "3           45.521564           -73.570367  1704232695740  1.704233e+12  \n",
      "4           45.549022           -73.591982  1704243796167  1.704244e+12  \n"
     ]
    }
   ],
   "source": [
    "# Display the first few rows\n",
    "print(bixi_trips.head())"
   ]
  },
  {
   "cell_type": "code",
   "execution_count": 8,
   "metadata": {},
   "outputs": [
    {
     "name": "stdout",
     "output_type": "stream",
     "text": [
      "  STARTTIME   ENDTIME\n",
      "0  21:25:00  21:31:00\n",
      "1  22:01:00  22:08:00\n",
      "2  23:29:00  23:49:00\n",
      "3  21:58:00  22:08:00\n",
      "4  01:03:00  01:14:00\n"
     ]
    }
   ],
   "source": [
    "# Transform STARTTIMEMS and ENDTIMEMS to time of day rounded down to hours and minutes\n",
    "bixi_trips['STARTTIME'] = pd.to_datetime(bixi_trips['STARTTIMEMS'], unit='ms').dt.floor('min').dt.time\n",
    "bixi_trips['ENDTIME'] = pd.to_datetime(bixi_trips['ENDTIMEMS'], unit='ms').dt.floor('min').dt.time\n",
    "\n",
    "# Display the first few rows\n",
    "print(bixi_trips[['STARTTIME', 'ENDTIME']].head())"
   ]
  },
  {
   "cell_type": "code",
   "execution_count": 9,
   "metadata": {},
   "outputs": [
    {
     "name": "stdout",
     "output_type": "stream",
     "text": [
      "  STARTTIMEINTERVAL ENDTIMEINTERVAL\n",
      "0          21:20:00        21:30:00\n",
      "1          22:00:00        22:00:00\n",
      "2          23:20:00        23:40:00\n",
      "3          21:50:00        22:00:00\n",
      "4          01:00:00        01:10:00\n"
     ]
    }
   ],
   "source": [
    "# Round it down to a 10 minute interval\n",
    "bixi_trips['STARTTIMEINTERVAL'] = bixi_trips['STARTTIME'].apply(lambda x: x.replace(minute=x.minute//10*10))\n",
    "bixi_trips['ENDTIMEINTERVAL'] = bixi_trips['ENDTIME'].apply(lambda x: x.replace(minute=x.minute//10*10))\n",
    "\n",
    "# Display the first few rows\n",
    "print(bixi_trips[['STARTTIMEINTERVAL', 'ENDTIMEINTERVAL']].head())"
   ]
  },
  {
   "cell_type": "code",
   "execution_count": 11,
   "metadata": {},
   "outputs": [
    {
     "name": "stdout",
     "output_type": "stream",
     "text": [
      "           STATIONNAME TIMEINTERVAL  STARTCOUNT  ENDCOUNT\n",
      "0  10e avenue / Masson     00:00:00         259       289\n",
      "1  10e avenue / Masson     00:10:00         255       257\n",
      "2  10e avenue / Masson     00:20:00         218       231\n",
      "3  10e avenue / Masson     00:30:00         241       223\n",
      "4  10e avenue / Masson     00:40:00         213       210\n"
     ]
    }
   ],
   "source": [
    "# group by start statation and start time interval and count the number of trips\n",
    "bixi_starttrips_grouped = bixi_trips.groupby(['STARTSTATIONNAME', 'STARTTIMEINTERVAL']).size().reset_index(name='STARTCOUNT')\n",
    "\n",
    "# group by end statation and end time interval and count the number of trips\n",
    "bixi_endtrips_grouped = bixi_trips.groupby(['ENDSTATIONNAME', 'ENDTIMEINTERVAL']).size().reset_index(name='ENDCOUNT')\n",
    "\n",
    "# Merge the two dataframes\n",
    "bixi_trips_grouped = bixi_starttrips_grouped.merge(bixi_endtrips_grouped, left_on=['STARTSTATIONNAME', 'STARTTIMEINTERVAL'], right_on=['ENDSTATIONNAME', 'ENDTIMEINTERVAL'])\n",
    "\n",
    "# Only keep 1 of the station name columns and time interval columns and keep the count columns\n",
    "bixi_trips_grouped = bixi_trips_grouped[['STARTSTATIONNAME', 'STARTTIMEINTERVAL', 'STARTCOUNT', 'ENDCOUNT']]\n",
    "bixi_trips_grouped.columns = ['STATIONNAME', 'TIMEINTERVAL', 'STARTCOUNT', 'ENDCOUNT']\n",
    "\n",
    "# Display the first few rows\n",
    "print(bixi_trips_grouped.head())"
   ]
  },
  {
   "cell_type": "code",
   "execution_count": 14,
   "metadata": {},
   "outputs": [
    {
     "name": "stdout",
     "output_type": "stream",
     "text": [
      "                               STATIONNAME  STATIONLATITUDE  STATIONLONGITUDE  \\\n",
      "0  Métro Champ-de-Mars (Viger / Sanguinet)        45.510253        -73.556777   \n",
      "1  Métro Champ-de-Mars (Viger / Sanguinet)        45.510253        -73.556777   \n",
      "2  Métro Champ-de-Mars (Viger / Sanguinet)        45.510253        -73.556777   \n",
      "3  Métro Champ-de-Mars (Viger / Sanguinet)        45.510253        -73.556777   \n",
      "4  Métro Champ-de-Mars (Viger / Sanguinet)        45.510253        -73.556777   \n",
      "\n",
      "   WITHIN_CITY_AREA                    geometry TIMEINTERVAL  STARTCOUNT  \\\n",
      "0              True  POINT (-73.55678 45.51025)     00:00:00         6.0   \n",
      "1              True  POINT (-73.55678 45.51025)     00:10:00        12.0   \n",
      "2              True  POINT (-73.55678 45.51025)     00:20:00         3.0   \n",
      "3              True  POINT (-73.55678 45.51025)     00:30:00         4.0   \n",
      "4              True  POINT (-73.55678 45.51025)     00:40:00         4.0   \n",
      "\n",
      "   ENDCOUNT  \n",
      "0       5.0  \n",
      "1       4.0  \n",
      "2       9.0  \n",
      "3       5.0  \n",
      "4       8.0  \n"
     ]
    }
   ],
   "source": [
    "# Merge the bixi stations data with the bixi trips data\n",
    "bixi_stations_interval_counts = bixi_stations.merge(bixi_trips_grouped, on='STATIONNAME', how='left')\n",
    "\n",
    "# Display the first few rows\n",
    "print(bixi_stations_interval_counts.head())"
   ]
  },
  {
   "cell_type": "code",
   "execution_count": null,
   "metadata": {},
   "outputs": [],
   "source": []
  }
 ],
 "metadata": {
  "kernelspec": {
   "display_name": "venv",
   "language": "python",
   "name": "python3"
  },
  "language_info": {
   "codemirror_mode": {
    "name": "ipython",
    "version": 3
   },
   "file_extension": ".py",
   "mimetype": "text/x-python",
   "name": "python",
   "nbconvert_exporter": "python",
   "pygments_lexer": "ipython3",
   "version": "3.13.1"
  }
 },
 "nbformat": 4,
 "nbformat_minor": 2
}
