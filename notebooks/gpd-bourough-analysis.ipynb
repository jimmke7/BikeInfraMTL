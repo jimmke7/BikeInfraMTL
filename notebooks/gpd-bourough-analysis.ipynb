{
 "cells": [
  {
   "cell_type": "markdown",
   "metadata": {},
   "source": [
    "# Exploring Montreal's buroughs with geopandas"
   ]
  },
  {
   "cell_type": "code",
   "execution_count": 1,
   "metadata": {},
   "outputs": [],
   "source": [
    "#pip install scikit-learn geopandas h3pandas h3~=3.0 -q"
   ]
  },
  {
   "cell_type": "code",
   "execution_count": 2,
   "metadata": {},
   "outputs": [],
   "source": [
    "import geopandas as gpd\n",
    "import pandas as pd\n",
    "from shapely.geometry import Point, Polygon\n",
    "from sklearn.preprocessing import MinMaxScaler\n",
    "import numpy as np\n",
    "import leafmap"
   ]
  },
  {
   "cell_type": "code",
   "execution_count": 3,
   "metadata": {},
   "outputs": [],
   "source": [
    "boroughs = gpd.read_file('../data/raw/borough-shapes.json')\n",
    "bike_paths = gpd.read_file('../data/raw/bikelane-infra.json')\n",
    "bixi_stations = gpd.read_file('../data/curated/bixi_stations.geojson')"
   ]
  },
  {
   "cell_type": "code",
   "execution_count": 4,
   "metadata": {},
   "outputs": [],
   "source": [
    "bike_counters = pd.read_csv('../data/raw/bike-counts-locations.csv')\n",
    "bike_counters = gpd.GeoDataFrame(\n",
    "    bike_counters, \n",
    "    geometry=gpd.points_from_xy(bike_counters['Longitude'], bike_counters['Latitude']),\n",
    "    crs='EPSG:4326'\n",
    ")\n",
    "bike_counters = bike_counters.to_crs(epsg=3857)\n",
    "bike_counters['geometry'] = bike_counters['geometry'].buffer(100)  # Adjust the buffer size as needed"
   ]
  },
  {
   "cell_type": "code",
   "execution_count": 5,
   "metadata": {},
   "outputs": [],
   "source": [
    "# Make sure all data is in the same projection. 3857 is the projection used by Google Maps in meters.\n",
    "boroughs = boroughs.to_crs(epsg=3857)\n",
    "bike_paths = bike_paths.to_crs(epsg=3857)\n",
    "bixi_stations = bixi_stations.to_crs(epsg=3857)\n",
    "bike_counters = bike_counters.to_crs(epsg=3857)"
   ]
  },
  {
   "cell_type": "markdown",
   "metadata": {},
   "source": [
    "## Analyze boroughs"
   ]
  },
  {
   "cell_type": "code",
   "execution_count": 6,
   "metadata": {},
   "outputs": [],
   "source": [
    "# Analysis for each borough\n",
    "def analyze_borough(borough_geometry):\n",
    "    # Count features intersecting with borough\n",
    "    num_bike_counters = bike_counters[bike_counters.intersects(borough_geometry)].shape[0]\n",
    "    num_bixi_stations = bixi_stations[bixi_stations.intersects(borough_geometry)].shape[0]\n",
    "    num_bike_paths = bike_paths[bike_paths.intersects(borough_geometry)].shape[0]\n",
    "    # Clip bike paths to the borough geometry to avoid double counting\n",
    "    clipped_bike_paths = gpd.clip(bike_paths, borough_geometry)\n",
    "    length_bike_paths = clipped_bike_paths.length.sum()\n",
    "\n",
    "    return num_bike_counters, num_bike_paths, length_bike_paths, num_bixi_stations"
   ]
  },
  {
   "cell_type": "code",
   "execution_count": 7,
   "metadata": {},
   "outputs": [
    {
     "data": {
      "text/html": [
       "<div>\n",
       "<style scoped>\n",
       "    .dataframe tbody tr th:only-of-type {\n",
       "        vertical-align: middle;\n",
       "    }\n",
       "\n",
       "    .dataframe tbody tr th {\n",
       "        vertical-align: top;\n",
       "    }\n",
       "\n",
       "    .dataframe thead th {\n",
       "        text-align: right;\n",
       "    }\n",
       "</style>\n",
       "<table border=\"1\" class=\"dataframe\">\n",
       "  <thead>\n",
       "    <tr style=\"text-align: right;\">\n",
       "      <th></th>\n",
       "      <th>NOM</th>\n",
       "      <th>num_bike_counters</th>\n",
       "      <th>num_bike_paths</th>\n",
       "      <th>length_bike_paths</th>\n",
       "      <th>num_bixi_stations</th>\n",
       "    </tr>\n",
       "  </thead>\n",
       "  <tbody>\n",
       "    <tr>\n",
       "      <th>0</th>\n",
       "      <td>LaSalle</td>\n",
       "      <td>0.0</td>\n",
       "      <td>254.0</td>\n",
       "      <td>42124.237283</td>\n",
       "      <td>18.0</td>\n",
       "    </tr>\n",
       "    <tr>\n",
       "      <th>1</th>\n",
       "      <td>Dollard-des-Ormeaux</td>\n",
       "      <td>0.0</td>\n",
       "      <td>162.0</td>\n",
       "      <td>28392.638905</td>\n",
       "      <td>0.0</td>\n",
       "    </tr>\n",
       "    <tr>\n",
       "      <th>2</th>\n",
       "      <td>Côte-Saint-Luc</td>\n",
       "      <td>0.0</td>\n",
       "      <td>122.0</td>\n",
       "      <td>19358.129245</td>\n",
       "      <td>0.0</td>\n",
       "    </tr>\n",
       "    <tr>\n",
       "      <th>3</th>\n",
       "      <td>Villeray-Saint-Michel-Parc-Extension</td>\n",
       "      <td>6.0</td>\n",
       "      <td>371.0</td>\n",
       "      <td>69559.753351</td>\n",
       "      <td>90.0</td>\n",
       "    </tr>\n",
       "    <tr>\n",
       "      <th>4</th>\n",
       "      <td>Rosemont-La Petite-Patrie</td>\n",
       "      <td>11.0</td>\n",
       "      <td>613.0</td>\n",
       "      <td>119652.810411</td>\n",
       "      <td>148.0</td>\n",
       "    </tr>\n",
       "  </tbody>\n",
       "</table>\n",
       "</div>"
      ],
      "text/plain": [
       "                                    NOM  num_bike_counters  num_bike_paths  \\\n",
       "0                               LaSalle                0.0           254.0   \n",
       "1                   Dollard-des-Ormeaux                0.0           162.0   \n",
       "2                        Côte-Saint-Luc                0.0           122.0   \n",
       "3  Villeray-Saint-Michel-Parc-Extension                6.0           371.0   \n",
       "4             Rosemont-La Petite-Patrie               11.0           613.0   \n",
       "\n",
       "   length_bike_paths  num_bixi_stations  \n",
       "0       42124.237283               18.0  \n",
       "1       28392.638905                0.0  \n",
       "2       19358.129245                0.0  \n",
       "3       69559.753351               90.0  \n",
       "4      119652.810411              148.0  "
      ]
     },
     "execution_count": 7,
     "metadata": {},
     "output_type": "execute_result"
    }
   ],
   "source": [
    "# Apply analysis to each borough\n",
    "boroughs[['num_bike_counters', 'num_bike_paths', 'length_bike_paths', 'num_bixi_stations']] = boroughs.geometry.apply(analyze_borough).apply(\n",
    "    lambda x: pd.Series(x)\n",
    ")\n",
    "boroughs[['NOM', 'num_bike_counters', 'num_bike_paths', 'length_bike_paths', 'num_bixi_stations']].head()"
   ]
  },
  {
   "cell_type": "code",
   "execution_count": 8,
   "metadata": {},
   "outputs": [],
   "source": [
    "# Normalize results (0 to 1 scale)\n",
    "# scaler = MinMaxScaler()\n",
    "# columns_to_normalize = ['num_bike_counters', 'num_bike_paths', 'length_bike_paths']\n",
    "# boroughs[columns_to_normalize] = scaler.fit_transform(boroughs[columns_to_normalize])\n",
    "# boroughs[['NOM', 'num_bike_counters', 'num_bike_paths', 'length_bike_paths',]].head()"
   ]
  },
  {
   "cell_type": "code",
   "execution_count": 9,
   "metadata": {},
   "outputs": [],
   "source": [
    "# Rating boroughs\n",
    "index_score = boroughs['length_bike_paths'] #+ boroughs['num_bike_counters'] + boroughs['num_bike_paths']"
   ]
  },
  {
   "cell_type": "code",
   "execution_count": 10,
   "metadata": {},
   "outputs": [
    {
     "data": {
      "application/vnd.jupyter.widget-view+json": {
       "model_id": "53c0081fa4174b459d3097fe1bce0ad2",
       "version_major": 2,
       "version_minor": 0
      },
      "text/plain": [
       "Map(center=[45.5, -73.6], controls=(ZoomControl(options=['position', 'zoom_in_text', 'zoom_in_title', 'zoom_ou…"
      ]
     },
     "execution_count": 10,
     "metadata": {},
     "output_type": "execute_result"
    }
   ],
   "source": [
    "m = leafmap.Map(center=[45.5, -73.6], zoom=11)\n",
    "m.add_basemap(\"Google Maps\")\n",
    "m.add_data(boroughs, column='length_bike_paths', scheme='Quantiles', cmap='Blues', legend_title='Total Bike Path Length')\n",
    "m"
   ]
  },
  {
   "cell_type": "code",
   "execution_count": 11,
   "metadata": {},
   "outputs": [],
   "source": [
    "m.add_gdf(bike_paths, layer_name=\"Bike Lanes\", style= {'color': 'purple', 'opacity': 0.5})"
   ]
  },
  {
   "cell_type": "code",
   "execution_count": 12,
   "metadata": {},
   "outputs": [
    {
     "data": {
      "application/vnd.jupyter.widget-view+json": {
       "model_id": "ac711e029ebe41ca977b061622c53f27",
       "version_major": 2,
       "version_minor": 0
      },
      "text/plain": [
       "Map(center=[45.5, -73.6], controls=(ZoomControl(options=['position', 'zoom_in_text', 'zoom_in_title', 'zoom_ou…"
      ]
     },
     "execution_count": 12,
     "metadata": {},
     "output_type": "execute_result"
    }
   ],
   "source": [
    "m2 = leafmap.Map(center=[45.5, -73.6], zoom=11)\n",
    "m2.add_basemap(\"Google Maps\")\n",
    "m2.add_data(boroughs, column='num_bixi_stations', scheme='Quantiles', cmap='Reds', legend_title='Total Bixi Stations')\n",
    "m2"
   ]
  },
  {
   "cell_type": "code",
   "execution_count": 13,
   "metadata": {},
   "outputs": [],
   "source": [
    "m2.add_gdf(bixi_stations, layer_name=\"Bixi Stations\", style= {'color': 'blue', 'opacity': 0.5})"
   ]
  },
  {
   "cell_type": "code",
   "execution_count": 20,
   "metadata": {},
   "outputs": [
    {
     "data": {
      "application/vnd.jupyter.widget-view+json": {
       "model_id": "52402910af4f4517bbd8cafd1c6eeb00",
       "version_major": 2,
       "version_minor": 0
      },
      "text/plain": [
       "Map(center=[45.5, -73.6], controls=(ZoomControl(options=['position', 'zoom_in_text', 'zoom_in_title', 'zoom_ou…"
      ]
     },
     "execution_count": 20,
     "metadata": {},
     "output_type": "execute_result"
    }
   ],
   "source": [
    "# Create a GeoDataFrame that represents the area of the city\n",
    "city_geometry = gpd.GeoDataFrame(geometry=[Polygon(boroughs.unary_union)], crs='EPSG:3857')\n",
    "\n",
    "m3 = leafmap.Map(center=[45.5, -73.6], zoom=11)\n",
    "m3.add_basemap(\"Google Maps\")\n",
    "m3.add_gdf(city_geometry, layer_name=\"City Area\", style={'color': 'black', 'opacity': 0.5})\n",
    "m3\n",
    "\n",
    "# Export city area to a GeoJSON file\n",
    "city_geometry.to_file('../data/curated/city-area.geojson', driver='GeoJSON')"
   ]
  }
 ],
 "metadata": {
  "kernelspec": {
   "display_name": "venv",
   "language": "python",
   "name": "python3"
  },
  "language_info": {
   "codemirror_mode": {
    "name": "ipython",
    "version": 3
   },
   "file_extension": ".py",
   "mimetype": "text/x-python",
   "name": "python",
   "nbconvert_exporter": "python",
   "pygments_lexer": "ipython3",
   "version": "3.13.1"
  }
 },
 "nbformat": 4,
 "nbformat_minor": 2
}
