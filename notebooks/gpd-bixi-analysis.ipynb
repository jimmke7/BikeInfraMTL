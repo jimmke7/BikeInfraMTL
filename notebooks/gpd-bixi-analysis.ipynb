{
 "cells": [
  {
   "cell_type": "markdown",
   "metadata": {},
   "source": [
    "# BIXI data analysis 2024"
   ]
  },
  {
   "cell_type": "code",
   "execution_count": 9,
   "metadata": {},
   "outputs": [],
   "source": [
    "import pandas as pd\n",
    "import geopandas as gpd\n",
    "import leafmap"
   ]
  },
  {
   "cell_type": "code",
   "execution_count": 3,
   "metadata": {},
   "outputs": [],
   "source": [
    "bixi = pd.read_csv('../data/raw/bixi/bixi-2024.csv')"
   ]
  },
  {
   "cell_type": "code",
   "execution_count": 4,
   "metadata": {},
   "outputs": [
    {
     "data": {
      "text/html": [
       "<div>\n",
       "<style scoped>\n",
       "    .dataframe tbody tr th:only-of-type {\n",
       "        vertical-align: middle;\n",
       "    }\n",
       "\n",
       "    .dataframe tbody tr th {\n",
       "        vertical-align: top;\n",
       "    }\n",
       "\n",
       "    .dataframe thead th {\n",
       "        text-align: right;\n",
       "    }\n",
       "</style>\n",
       "<table border=\"1\" class=\"dataframe\">\n",
       "  <thead>\n",
       "    <tr style=\"text-align: right;\">\n",
       "      <th></th>\n",
       "      <th>STARTSTATIONNAME</th>\n",
       "      <th>STARTSTATIONARRONDISSEMENT</th>\n",
       "      <th>STARTSTATIONLATITUDE</th>\n",
       "      <th>STARTSTATIONLONGITUDE</th>\n",
       "      <th>ENDSTATIONNAME</th>\n",
       "      <th>ENDSTATIONARRONDISSEMENT</th>\n",
       "      <th>ENDSTATIONLATITUDE</th>\n",
       "      <th>ENDSTATIONLONGITUDE</th>\n",
       "      <th>STARTTIMEMS</th>\n",
       "      <th>ENDTIMEMS</th>\n",
       "    </tr>\n",
       "  </thead>\n",
       "  <tbody>\n",
       "    <tr>\n",
       "      <th>0</th>\n",
       "      <td>Métro Champ-de-Mars (Viger / Sanguinet)</td>\n",
       "      <td>Ville-Marie</td>\n",
       "      <td>45.510253</td>\n",
       "      <td>-73.556777</td>\n",
       "      <td>St-Antoine / Jean-Paul Riopelle</td>\n",
       "      <td>Ville-Marie</td>\n",
       "      <td>45.502940</td>\n",
       "      <td>-73.560640</td>\n",
       "      <td>1704230756167</td>\n",
       "      <td>1.704231e+12</td>\n",
       "    </tr>\n",
       "    <tr>\n",
       "      <th>1</th>\n",
       "      <td>Métro Place-d'Armes (Viger / St-Urbain)</td>\n",
       "      <td>Ville-Marie</td>\n",
       "      <td>45.506314</td>\n",
       "      <td>-73.559671</td>\n",
       "      <td>de Maisonneuve / Aylmer (est)</td>\n",
       "      <td>Ville-Marie</td>\n",
       "      <td>45.505386</td>\n",
       "      <td>-73.570432</td>\n",
       "      <td>1704232888826</td>\n",
       "      <td>1.704233e+12</td>\n",
       "    </tr>\n",
       "    <tr>\n",
       "      <th>2</th>\n",
       "      <td>Émile-Duployé / Sherbrooke</td>\n",
       "      <td>Le Plateau-Mont-Royal</td>\n",
       "      <td>45.527195</td>\n",
       "      <td>-73.564526</td>\n",
       "      <td>Parc Molson (d'Iberville / Beaubien)</td>\n",
       "      <td>Rosemont - La Petite-Patrie</td>\n",
       "      <td>45.549022</td>\n",
       "      <td>-73.591982</td>\n",
       "      <td>1704238154678</td>\n",
       "      <td>1.704239e+12</td>\n",
       "    </tr>\n",
       "    <tr>\n",
       "      <th>3</th>\n",
       "      <td>Marmier / St-Denis</td>\n",
       "      <td>Rosemont - La Petite-Patrie</td>\n",
       "      <td>45.531027</td>\n",
       "      <td>-73.598623</td>\n",
       "      <td>Roy / St-André</td>\n",
       "      <td>Le Plateau-Mont-Royal</td>\n",
       "      <td>45.521564</td>\n",
       "      <td>-73.570367</td>\n",
       "      <td>1704232695740</td>\n",
       "      <td>1.704233e+12</td>\n",
       "    </tr>\n",
       "    <tr>\n",
       "      <th>4</th>\n",
       "      <td>Marmier / St-Denis</td>\n",
       "      <td>Rosemont - La Petite-Patrie</td>\n",
       "      <td>45.531027</td>\n",
       "      <td>-73.598623</td>\n",
       "      <td>Parc Molson (d'Iberville / Beaubien)</td>\n",
       "      <td>Rosemont - La Petite-Patrie</td>\n",
       "      <td>45.549022</td>\n",
       "      <td>-73.591982</td>\n",
       "      <td>1704243796167</td>\n",
       "      <td>1.704244e+12</td>\n",
       "    </tr>\n",
       "  </tbody>\n",
       "</table>\n",
       "</div>"
      ],
      "text/plain": [
       "                          STARTSTATIONNAME   STARTSTATIONARRONDISSEMENT  \\\n",
       "0  Métro Champ-de-Mars (Viger / Sanguinet)                  Ville-Marie   \n",
       "1  Métro Place-d'Armes (Viger / St-Urbain)                  Ville-Marie   \n",
       "2               Émile-Duployé / Sherbrooke        Le Plateau-Mont-Royal   \n",
       "3                       Marmier / St-Denis  Rosemont - La Petite-Patrie   \n",
       "4                       Marmier / St-Denis  Rosemont - La Petite-Patrie   \n",
       "\n",
       "   STARTSTATIONLATITUDE  STARTSTATIONLONGITUDE  \\\n",
       "0             45.510253             -73.556777   \n",
       "1             45.506314             -73.559671   \n",
       "2             45.527195             -73.564526   \n",
       "3             45.531027             -73.598623   \n",
       "4             45.531027             -73.598623   \n",
       "\n",
       "                         ENDSTATIONNAME     ENDSTATIONARRONDISSEMENT  \\\n",
       "0       St-Antoine / Jean-Paul Riopelle                  Ville-Marie   \n",
       "1         de Maisonneuve / Aylmer (est)                  Ville-Marie   \n",
       "2  Parc Molson (d'Iberville / Beaubien)  Rosemont - La Petite-Patrie   \n",
       "3                        Roy / St-André        Le Plateau-Mont-Royal   \n",
       "4  Parc Molson (d'Iberville / Beaubien)  Rosemont - La Petite-Patrie   \n",
       "\n",
       "   ENDSTATIONLATITUDE  ENDSTATIONLONGITUDE    STARTTIMEMS     ENDTIMEMS  \n",
       "0           45.502940           -73.560640  1704230756167  1.704231e+12  \n",
       "1           45.505386           -73.570432  1704232888826  1.704233e+12  \n",
       "2           45.549022           -73.591982  1704238154678  1.704239e+12  \n",
       "3           45.521564           -73.570367  1704232695740  1.704233e+12  \n",
       "4           45.549022           -73.591982  1704243796167  1.704244e+12  "
      ]
     },
     "execution_count": 4,
     "metadata": {},
     "output_type": "execute_result"
    }
   ],
   "source": [
    "bixi.head()"
   ]
  },
  {
   "cell_type": "code",
   "execution_count": 1,
   "metadata": {},
   "outputs": [
    {
     "ename": "NameError",
     "evalue": "name 'bixi' is not defined",
     "output_type": "error",
     "traceback": [
      "\u001b[1;31m---------------------------------------------------------------------------\u001b[0m",
      "\u001b[1;31mNameError\u001b[0m                                 Traceback (most recent call last)",
      "Cell \u001b[1;32mIn[1], line 1\u001b[0m\n\u001b[1;32m----> 1\u001b[0m \u001b[43mbixi\u001b[49m\u001b[38;5;241m.\u001b[39mshape[\u001b[38;5;241m0\u001b[39m]\n",
      "\u001b[1;31mNameError\u001b[0m: name 'bixi' is not defined"
     ]
    }
   ],
   "source": [
    "bixi.shape[0]"
   ]
  },
  {
   "cell_type": "code",
   "execution_count": 14,
   "metadata": {},
   "outputs": [
    {
     "data": {
      "text/html": [
       "<div>\n",
       "<style scoped>\n",
       "    .dataframe tbody tr th:only-of-type {\n",
       "        vertical-align: middle;\n",
       "    }\n",
       "\n",
       "    .dataframe tbody tr th {\n",
       "        vertical-align: top;\n",
       "    }\n",
       "\n",
       "    .dataframe thead th {\n",
       "        text-align: right;\n",
       "    }\n",
       "</style>\n",
       "<table border=\"1\" class=\"dataframe\">\n",
       "  <thead>\n",
       "    <tr style=\"text-align: right;\">\n",
       "      <th></th>\n",
       "      <th>STARTSTATIONNAME</th>\n",
       "      <th>STARTSTATIONLATITUDE</th>\n",
       "      <th>STARTSTATIONLONGITUDE</th>\n",
       "    </tr>\n",
       "  </thead>\n",
       "  <tbody>\n",
       "    <tr>\n",
       "      <th>0</th>\n",
       "      <td>Métro Champ-de-Mars (Viger / Sanguinet)</td>\n",
       "      <td>45.510253</td>\n",
       "      <td>-73.556777</td>\n",
       "    </tr>\n",
       "    <tr>\n",
       "      <th>1</th>\n",
       "      <td>Métro Place-d'Armes (Viger / St-Urbain)</td>\n",
       "      <td>45.506314</td>\n",
       "      <td>-73.559671</td>\n",
       "    </tr>\n",
       "    <tr>\n",
       "      <th>2</th>\n",
       "      <td>Émile-Duployé / Sherbrooke</td>\n",
       "      <td>45.527195</td>\n",
       "      <td>-73.564526</td>\n",
       "    </tr>\n",
       "    <tr>\n",
       "      <th>3</th>\n",
       "      <td>Marmier / St-Denis</td>\n",
       "      <td>45.531027</td>\n",
       "      <td>-73.598623</td>\n",
       "    </tr>\n",
       "    <tr>\n",
       "      <th>5</th>\n",
       "      <td>du Parc-Lafontaine / Rachel</td>\n",
       "      <td>45.525512</td>\n",
       "      <td>-73.574245</td>\n",
       "    </tr>\n",
       "  </tbody>\n",
       "</table>\n",
       "</div>"
      ],
      "text/plain": [
       "                          STARTSTATIONNAME  STARTSTATIONLATITUDE  \\\n",
       "0  Métro Champ-de-Mars (Viger / Sanguinet)             45.510253   \n",
       "1  Métro Place-d'Armes (Viger / St-Urbain)             45.506314   \n",
       "2               Émile-Duployé / Sherbrooke             45.527195   \n",
       "3                       Marmier / St-Denis             45.531027   \n",
       "5              du Parc-Lafontaine / Rachel             45.525512   \n",
       "\n",
       "   STARTSTATIONLONGITUDE  \n",
       "0             -73.556777  \n",
       "1             -73.559671  \n",
       "2             -73.564526  \n",
       "3             -73.598623  \n",
       "5             -73.574245  "
      ]
     },
     "execution_count": 14,
     "metadata": {},
     "output_type": "execute_result"
    }
   ],
   "source": [
    "# Create a bixi station dataframe\n",
    "bixi_stations = bixi[['STARTSTATIONNAME', 'STARTSTATIONLATITUDE', 'STARTSTATIONLONGITUDE']].drop_duplicates()\n",
    "bixi_stations.head()"
   ]
  },
  {
   "cell_type": "code",
   "execution_count": 15,
   "metadata": {},
   "outputs": [],
   "source": [
    "# Create a GeoDataFrame from the bixi stations\n",
    "gdf_bixi_stations = gpd.GeoDataFrame(bixi_stations, geometry=gpd.points_from_xy(bixi_stations.STARTSTATIONLONGITUDE, bixi_stations.STARTSTATIONLATITUDE))"
   ]
  },
  {
   "cell_type": "code",
   "execution_count": 20,
   "metadata": {},
   "outputs": [],
   "source": [
    "gdf_bixi_stations = gpd.GeoDataFrame(\n",
    "    bixi_stations, \n",
    "    geometry=gpd.points_from_xy(bixi_stations['STARTSTATIONLONGITUDE'], bixi_stations['STARTSTATIONLATITUDE']),\n",
    "    crs='EPSG:4326'\n",
    ")\n",
    "gdf_bixi_stations = gdf_bixi_stations.to_crs(epsg=3857)\n",
    "gdf_bixi_stations['geometry'] = gdf_bixi_stations['geometry'].buffer(50)  # Adjust the buffer size as needed"
   ]
  },
  {
   "cell_type": "code",
   "execution_count": 23,
   "metadata": {},
   "outputs": [
    {
     "data": {
      "application/vnd.jupyter.widget-view+json": {
       "model_id": "647881d760104f8e88127e93cc46b625",
       "version_major": 2,
       "version_minor": 0
      },
      "text/plain": [
       "Map(center=[45.5, -73.6], controls=(ZoomControl(options=['position', 'zoom_in_text', 'zoom_in_title', 'zoom_ou…"
      ]
     },
     "execution_count": 23,
     "metadata": {},
     "output_type": "execute_result"
    }
   ],
   "source": [
    "m = leafmap.Map(center=[45.5, -73.6], zoom=11)\n",
    "m.add_basemap(\"Google Maps\")\n",
    "m"
   ]
  },
  {
   "cell_type": "code",
   "execution_count": 24,
   "metadata": {},
   "outputs": [],
   "source": [
    "m.add_gdf(gdf_bixi_stations, layer_name=\"Bixi Stations\", fill_colors=[\"Red\"], radius=10)"
   ]
  },
  {
   "cell_type": "code",
   "execution_count": 25,
   "metadata": {},
   "outputs": [],
   "source": [
    "# Export geo json\n",
    "gdf_bixi_stations.to_file('../data/curated/bixi_stations.geojson', driver='GeoJSON')"
   ]
  }
 ],
 "metadata": {
  "kernelspec": {
   "display_name": "venv",
   "language": "python",
   "name": "python3"
  },
  "language_info": {
   "codemirror_mode": {
    "name": "ipython",
    "version": 3
   },
   "file_extension": ".py",
   "mimetype": "text/x-python",
   "name": "python",
   "nbconvert_exporter": "python",
   "pygments_lexer": "ipython3",
   "version": "3.13.1"
  }
 },
 "nbformat": 4,
 "nbformat_minor": 2
}
